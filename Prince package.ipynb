{
 "cells": [
  {
   "cell_type": "markdown",
   "id": "f2987099",
   "metadata": {},
   "source": [
    "## Prince\n",
    "- Prince is a library for doing factor analysis. \n",
    "- This includes a variety of methods including principal component analysis (PCA) and correspondence analysis (CA). \n",
    "- The goal is to provide an efficient implementation for each algorithm along with a scikit-learn API."
   ]
  },
  {
   "cell_type": "markdown",
   "id": "6691bb5b",
   "metadata": {},
   "source": [
    "### Installation\n",
    "- Prince doesn't have any extra dependencies apart from the usual suspects (sklearn, pandas, matplotlib) which are included with Anaconda.\n",
    "\n",
    "#### Via PyPI\n",
    "$ pip install prince"
   ]
  },
  {
   "cell_type": "markdown",
   "id": "0963e70b",
   "metadata": {},
   "source": [
    "### Guidelines\n",
    "\n",
    "#### You are supposed to use each method depending on your situation:\n",
    "- All your variables are numeric: use principal component analysis (prince.PCA)\n",
    "- You have a **contingency table: use correspondence analysis (prince.CA)\n",
    "- You have more than 2 variables and they are all categorical: use multiple correspondence analysis (prince.MCA)\n",
    "- You have groups of categorical or numerical variables: use multiple factor analysis (prince.MFA)\n",
    "- You have both categorical and numerical variables: use factor analysis of mixed data (prince.FAMD)"
   ]
  },
  {
   "cell_type": "markdown",
   "id": "415ac8fc",
   "metadata": {},
   "source": [
    "#### Contingency Table:\n",
    "- A contingency table is a tabular representation of categorical data.\n",
    "- A contingency table usually shows frequencies for particular combinations of values of two discrete random variable s X and Y. \n",
    "- Each cell in the table represents a mutually exclusive combination of X-Y values.\n",
    "\n",
    "- For example, consider a sample of N=200 beer-drinkers. \n",
    "> For each drinker we have information on sex \n",
    "> (variable X, taking on 2 possible values: \"Male\" and \"Female\") and \n",
    "preferred category of beer \n",
    "(variable Y, taking on 3 possible values: \"Light\", \"Regular\", \"Dark\"). \n",
    "A contingency table for these data might look like the following"
   ]
  },
  {
   "cell_type": "markdown",
   "id": "d34839da",
   "metadata": {},
   "source": [
    "#### Linear discriminant analysis\n",
    "Linear discriminant analysis (LDA), normal discriminant analysis (NDA), or discriminant function analysis is a generalization of Fisher's linear discriminant, a method used in statistics and other fields, to find a linear combination of features that characterizes or separates two or more classes of objects or events. The resulting combination may be used as a linear classifier, or, more commonly, for dimensionality reduction before later classification."
   ]
  },
  {
   "cell_type": "code",
   "execution_count": null,
   "id": "f28f6adf",
   "metadata": {},
   "outputs": [],
   "source": []
  },
  {
   "cell_type": "code",
   "execution_count": null,
   "id": "9adc17c5",
   "metadata": {},
   "outputs": [],
   "source": []
  },
  {
   "cell_type": "code",
   "execution_count": 2,
   "id": "2e221d24",
   "metadata": {},
   "outputs": [],
   "source": [
    "import numpy as np\n",
    "import prince "
   ]
  },
  {
   "cell_type": "code",
   "execution_count": null,
   "id": "ecb2ec33",
   "metadata": {},
   "outputs": [],
   "source": []
  }
 ],
 "metadata": {
  "kernelspec": {
   "display_name": "Python 3 (ipykernel)",
   "language": "python",
   "name": "python3"
  },
  "language_info": {
   "codemirror_mode": {
    "name": "ipython",
    "version": 3
   },
   "file_extension": ".py",
   "mimetype": "text/x-python",
   "name": "python",
   "nbconvert_exporter": "python",
   "pygments_lexer": "ipython3",
   "version": "3.9.7"
  }
 },
 "nbformat": 4,
 "nbformat_minor": 5
}
