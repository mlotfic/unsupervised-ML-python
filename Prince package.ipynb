{
 "cells": [
  {
   "cell_type": "markdown",
   "id": "d75454aa",
   "metadata": {},
   "source": [
    "## Prince\n",
    "- Prince is a library for doing factor analysis. \n",
    "- This includes a variety of methods including principal component analysis (PCA) and correspondence analysis (CA). \n",
    "- The goal is to provide an efficient implementation for each algorithm along with a scikit-learn API."
   ]
  },
  {
   "cell_type": "markdown",
   "id": "60d0d4ae",
   "metadata": {},
   "source": [
    "### Installation\n",
    "- Prince doesn't have any extra dependencies apart from the usual suspects (sklearn, pandas, matplotlib) which are included with Anaconda.\n",
    "\n",
    "#### Via PyPI\n",
    "$ pip install prince"
   ]
  },
  {
   "cell_type": "markdown",
   "id": "01da1fe6",
   "metadata": {},
   "source": [
    "### Guidelines\n",
    "\n",
    "#### You are supposed to use each method depending on your situation:\n",
    "- All your variables are numeric: use principal component analysis (prince.PCA)\n",
    "- You have a **contingency table: use correspondence analysis (prince.CA)\n",
    "- You have more than 2 variables and they are all categorical: use multiple correspondence analysis (prince.MCA)\n",
    "- You have groups of categorical or numerical variables: use multiple factor analysis (prince.MFA)\n",
    "- You have both categorical and numerical variables: use factor analysis of mixed data (prince.FAMD)"
   ]
  },
  {
   "cell_type": "markdown",
   "id": "e747fa8f",
   "metadata": {},
   "source": [
    "#### Contingency Table:\n",
    "- A contingency table is a tabular representation of categorical data.\n",
    "- A contingency table usually shows frequencies for particular combinations of values of two discrete random variable s X and Y. \n",
    "- Each cell in the table represents a mutually exclusive combination of X-Y values.\n",
    "\n",
    "- For example, consider a sample of N=200 beer-drinkers. \n",
    "- For each drinker we have information on sex \n",
    "- (variable X, taking on 2 possible values: \"Male\" and \"Female\") and \n",
    "- preferred category of beer \n",
    "- (variable Y, taking on 3 possible values: \"Light\", \"Regular\", \"Dark\"). \n",
    "##### A contingency table for these data might look like the following\n",
    "\n",
    "|        \t| Light \t| Regular \t| Dark \t| Total \t|\n",
    "|:------:\t|-------\t|---------\t|------\t|-------\t|\n",
    "| Male   \t| 20    \t| 40      \t| 50   \t| 110   \t|\n",
    "| Female \t| 50    \t| 20      \t| 20   \t| 90    \t|\n",
    "| Total: \t| 70    \t| 60      \t| 70   \t| 200   \t|\n",
    "\n",
    "- This is a two-way 2x3 contingency table (i.e. two rows and three columns).\n",
    "- Sometimes three-way (and more) contingency tables are used. \n",
    "- Suppose the beer-drinkers data, besides sex and preference, are also stratified by age group. \n",
    "- The third discrete variable Z (\"Age\") in this case might, for example, take on 4 values: \"65\".\n",
    "- In this case we would have a three-way 2x3x4 contingency table, equivalent to 4 two-way 2x3 contingency tables (one 2x3 table for each of the 4 age-groups)."
   ]
  },
  {
   "cell_type": "markdown",
   "id": "83cccf4b",
   "metadata": {},
   "source": [
    "#### Linear discriminant analysis\n",
    "Linear discriminant analysis (LDA), normal discriminant analysis (NDA), or discriminant function analysis is a generalization of Fisher's linear discriminant, a method used in statistics and other fields, to find a linear combination of features that characterizes or separates two or more classes of objects or events. The resulting combination may be used as a linear classifier, or, more commonly, for dimensionality reduction before later classification."
   ]
  },
  {
   "cell_type": "code",
   "execution_count": null,
   "id": "fb113f0d",
   "metadata": {},
   "outputs": [],
   "source": []
  },
  {
   "cell_type": "code",
   "execution_count": null,
   "id": "b6a5cbd1",
   "metadata": {},
   "outputs": [],
   "source": []
  },
  {
   "cell_type": "code",
   "execution_count": 2,
   "id": "8f3a7195",
   "metadata": {},
   "outputs": [],
   "source": [
    "import numpy as np\n",
    "import prince "
   ]
  },
  {
   "cell_type": "code",
   "execution_count": null,
   "id": "8247a0b5",
   "metadata": {},
   "outputs": [],
   "source": []
  }
 ],
 "metadata": {
  "kernelspec": {
   "display_name": "Python 3 (ipykernel)",
   "language": "python",
   "name": "python3"
  },
  "language_info": {
   "codemirror_mode": {
    "name": "ipython",
    "version": 3
   },
   "file_extension": ".py",
   "mimetype": "text/x-python",
   "name": "python",
   "nbconvert_exporter": "python",
   "pygments_lexer": "ipython3",
   "version": "3.9.7"
  }
 },
 "nbformat": 4,
 "nbformat_minor": 5
}
