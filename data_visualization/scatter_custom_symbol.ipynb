{
  "cells": [
    {
      "cell_type": "code",
      "execution_count": null,
      "metadata": {
        "collapsed": false
      },
      "outputs": [],
      "source": [
        "%matplotlib inline"
      ]
    },
    {
      "cell_type": "markdown",
      "metadata": {},
      "source": [
        "\n# Scatter Custom Symbol\n\nCreating a custom ellipse symbol in scatter plot.\n"
      ]
    },
    {
      "cell_type": "code",
      "execution_count": null,
      "metadata": {
        "collapsed": false
      },
      "outputs": [],
      "source": [
        "import matplotlib.pyplot as plt\nimport numpy as np\n\n\n# Fixing random state for reproducibility\nnp.random.seed(19680801)\n\n# unit area ellipse\nrx, ry = 3., 1.\narea = rx * ry * np.pi\ntheta = np.arange(0, 2 * np.pi + 0.01, 0.1)\nverts = np.column_stack([rx / area * np.cos(theta), ry / area * np.sin(theta)])\n\nx, y, s, c = np.random.rand(4, 30)\ns *= 10**2.\n\nfig, ax = plt.subplots()\nax.scatter(x, y, s, c, marker=verts)\n\nplt.show()"
      ]
    }
  ],
  "metadata": {
    "kernelspec": {
      "display_name": "Python 3",
      "language": "python",
      "name": "python3"
    },
    "language_info": {
      "codemirror_mode": {
        "name": "ipython",
        "version": 3
      },
      "file_extension": ".py",
      "mimetype": "text/x-python",
      "name": "python",
      "nbconvert_exporter": "python",
      "pygments_lexer": "ipython3",
      "version": "3.10.2"
    }
  },
  "nbformat": 4,
  "nbformat_minor": 0
}