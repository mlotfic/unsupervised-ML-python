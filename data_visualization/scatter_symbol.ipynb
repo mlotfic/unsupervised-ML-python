{
  "cells": [
    {
      "cell_type": "code",
      "execution_count": null,
      "metadata": {
        "collapsed": false
      },
      "outputs": [],
      "source": [
        "%matplotlib inline"
      ]
    },
    {
      "cell_type": "markdown",
      "metadata": {},
      "source": [
        "\n# Scatter Symbol\n\nScatter plot with clover symbols.\n"
      ]
    },
    {
      "cell_type": "code",
      "execution_count": null,
      "metadata": {
        "collapsed": false
      },
      "outputs": [],
      "source": [
        "import matplotlib.pyplot as plt\nimport numpy as np\n\n# Fixing random state for reproducibility\nnp.random.seed(19680801)\n\n\nx = np.arange(0.0, 50.0, 2.0)\ny = x ** 1.3 + np.random.rand(*x.shape) * 30.0\ns = np.random.rand(*x.shape) * 800 + 500\n\nplt.scatter(x, y, s, c=\"g\", alpha=0.5, marker=r'$\\clubsuit$',\n            label=\"Luck\")\nplt.xlabel(\"Leprechauns\")\nplt.ylabel(\"Gold\")\nplt.legend(loc='upper left')\nplt.show()"
      ]
    }
  ],
  "metadata": {
    "kernelspec": {
      "display_name": "Python 3",
      "language": "python",
      "name": "python3"
    },
    "language_info": {
      "codemirror_mode": {
        "name": "ipython",
        "version": 3
      },
      "file_extension": ".py",
      "mimetype": "text/x-python",
      "name": "python",
      "nbconvert_exporter": "python",
      "pygments_lexer": "ipython3",
      "version": "3.10.2"
    }
  },
  "nbformat": 4,
  "nbformat_minor": 0
}