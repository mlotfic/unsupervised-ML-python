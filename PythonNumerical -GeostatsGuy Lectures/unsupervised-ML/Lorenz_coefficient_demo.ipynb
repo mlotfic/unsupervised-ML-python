{
 "cells": [
  {
   "cell_type": "markdown",
   "metadata": {},
   "source": [
    "<p align=\"center\">\n",
    "    <img src=\"https://github.com/GeostatsGuy/GeostatsPy/blob/master/TCG_color_logo.png?raw=true\" width=\"220\" height=\"240\" />\n",
    "\n",
    "</p>\n",
    "\n",
    "## Demonstration of Lorenz Coefficient for Quantifying Spatial, Subsurface Heterogeneity\n",
    "\n",
    "#### Alan Scherman, Rice University, UT PGE 2020 SURI\n",
    "\n",
    "#### Supervised and Updated Plots by:\n",
    "\n",
    "#### Michael Pyrcz, Associate Professor, The University of Texas at Austin \n",
    "\n",
    "##### [Twitter](https://twitter.com/geostatsguy) | [GitHub](https://github.com/GeostatsGuy) | [Website](http://michaelpyrcz.com) | [GoogleScholar](https://scholar.google.com/citations?user=QVZ20eQAAAAJ&hl=en&oi=ao) | [Book](https://www.amazon.com/Geostatistical-Reservoir-Modeling-Michael-Pyrcz/dp/0199731446) | [YouTube](https://www.youtube.com/channel/UCLqEr-xV-ceHdXXXrTId5ig)  | [LinkedIn](https://www.linkedin.com/in/michael-pyrcz-61a648a1) | [GeostatsPy](https://github.com/GeostatsGuy/GeostatsPy)\n",
    "\n",
    "***\n",
    "#### Introduction\n",
    "\n",
    "This is a demonstration of how to calculate the Lorenz Coefficient of a subsurface sample from well log porosity and permeability measurements. The Lorenz Coefficient is an important heuristic imported form the sphere of macroeconomics used to quantify the spatial heterogeneity of a subsurface sample. The Lorenz Coefficient is obtained by doubling the area between the Lorenz Curve and the Homogeneous Line. It ranges from 0 to 1 where, by convention, a coefficient of less than 0.3 suggests low heterogeneity and a coefficient of more than 0.6 indicates high heterogeneity. In practical terms, a low spatial heterogeneity allows for simple displacement of subsurface fluids and a high recovery factor.\n",
    "***\n",
    "#### Objective\n",
    "\n",
    "To understand and apply the methodology to calculate the Lorenz Curve and Coefficient from porosity and permeability measurements through Python functionalities.\n",
    "\n",
    "***\n",
    "#### Calculation procedure\n",
    "\n",
    "The following list contains the necessary steps to determine the Lorenz Coefficient of a subsurface sample:\n",
    "\n",
    "**(1)** Sort porosity ($\\phi$) and permeability (**_k_**) in descending order of ratio **_k_**/$\\phi$;\n",
    "\n",
    "**(2)** Calculate storage (**_S.C._**) and flow capacity (**_F.C._**) of each layer (region between depth measurements) with:\n",
    "\n",
    "<br>\n",
    "\\begin{equation}\n",
    "S.C. = \\phi*h\n",
    "\\end{equation}\n",
    "\\begin{equation}\n",
    "F.C. = k*h\n",
    "\\end{equation}\n",
    "\n",
    "where **_h_** is the layer thickness;\n",
    "\n",
    "**(3)** Calculate the _cumulative_ storage (**_C.S.C._**) and flow capacities (**_C.F.C._**) of each layer with:\n",
    "\n",
    "<br>\n",
    "\\begin{equation}\n",
    "C.S.C. = \\sum^{current layer}_{i = 1} \\phi*h\n",
    "\\end{equation}\n",
    "\\begin{equation}\n",
    "C.F.C. = \\sum^{current layer}_{i = 1} k*h\n",
    "\\end{equation}\n",
    "\n",
    "**(4)** Normalize the cumulative storage and flow capacities by dividing them by the largest cumulative storage and flow capacities (i.e. the last cumulative capacities calculated), respectively;\n",
    "\n",
    "**(5)** _(Optional)_ Plot the normalized cumulative flow capacities against the normalized cumulative storage capacities (i.e. the Lorenz Curve);\n",
    "\n",
    "**(6)** Find a curve fit for the normalized capacities in the Cartesian plane (usually a 3rd degree polynomial is sufficient);\n",
    "\n",
    "**(7)** Integrate to find the area between the Lorenz Curve and the Homogenous Line;\n",
    "\n",
    "**(8)** Divide the result found in **(7)** by 0.5 to obtain the Lorenz Coefficient:\n",
    "\n",
    "\n",
    "\\begin{equation}\n",
    "LorenzCoefficient = \\frac{\\int^{1}_{0} (LorenzCurve - HomogeneousLine)}{0.5}\n",
    "\\end{equation}\n",
    "***\n",
    "#### Load the required libraries\n",
    "\n",
    "The program below utilizes some standard Python packages. These should be previously installed if you have Anaconda or other similar software."
   ]
  },
  {
   "cell_type": "code",
   "execution_count": 1,
   "metadata": {},
   "outputs": [],
   "source": [
    "import pandas as pd                                                  # To import data from .xlsx or .csv file\n",
    "import numpy as np                                                   # For numerical array management\n",
    "from matplotlib import pyplot as plt                                 # For graphical display of Lorenz Curve\n",
    "from matplotlib.ticker import (MultipleLocator, AutoMinorLocator) # control of axes ticks\n",
    "plt.rc('axes', axisbelow=True)                            # set axes and grids in the background for all plots"
   ]
  },
  {
   "cell_type": "markdown",
   "metadata": {},
   "source": [
    "If you get a package import error, you may have to first install some of these packages. This can usually be accomplished by opening up a command window on Windows and then typing 'python -m pip install [package-name]'. More assistance is available with the respective package docs. \n",
    "***\n",
    "#### Importing porosity and permeability data\n",
    "\n",
    "The data file for this demonstration is availbale at [here](https://github.com/GeostatsGuy/GeoDataSets/blob/master/WellPorPermSample_3.xlsx). \n",
    "\n",
    "The well log data will be imported from an Excel (.xlsx) file. There are similar Pandas methods which allow the importation of data from .csv and other common file types. First, the Excel data is stored as a Pandas data frame. Then, the depth, porosity, and permeability data are placed into separate data frames by means of their Excel column names. Make sure that the strings match every character of the column titles in the Excel file.\n",
    "\n"
   ]
  },
  {
   "cell_type": "code",
   "execution_count": 2,
   "metadata": {},
   "outputs": [],
   "source": [
    "#df = pd.read_excel('WellPorPermSample_3.xlsx')                # Include file directory with os.chdir() method if necessary\n",
    "df = pd.read_csv('https://raw.githubusercontent.com/GeostatsGuy/GeoDataSets/master/WellPorPermSample_3.csv') # load from Dr. Pyrcz's GitHub respository\n",
    "depth = pd.DataFrame(df, columns = ['Depth (m)']); \n",
    "poros = pd.DataFrame(df, columns = ['Por (%)']); \n",
    "perme = pd.DataFrame(df, columns = ['Perm (mD)']); "
   ]
  },
  {
   "cell_type": "markdown",
   "metadata": {},
   "source": [
    "To certify that the subsurface data have been imported appropriately:"
   ]
  },
  {
   "cell_type": "code",
   "execution_count": 3,
   "metadata": {},
   "outputs": [
    {
     "data": {
      "text/html": [
       "<div>\n",
       "<style scoped>\n",
       "    .dataframe tbody tr th:only-of-type {\n",
       "        vertical-align: middle;\n",
       "    }\n",
       "\n",
       "    .dataframe tbody tr th {\n",
       "        vertical-align: top;\n",
       "    }\n",
       "\n",
       "    .dataframe thead th {\n",
       "        text-align: right;\n",
       "    }\n",
       "</style>\n",
       "<table border=\"1\" class=\"dataframe\">\n",
       "  <thead>\n",
       "    <tr style=\"text-align: right;\">\n",
       "      <th></th>\n",
       "      <th>Depth (m)</th>\n",
       "      <th>Por (%)</th>\n",
       "      <th>Perm (mD)</th>\n",
       "    </tr>\n",
       "  </thead>\n",
       "  <tbody>\n",
       "    <tr>\n",
       "      <th>0</th>\n",
       "      <td>0.25</td>\n",
       "      <td>13.0</td>\n",
       "      <td>265.5</td>\n",
       "    </tr>\n",
       "    <tr>\n",
       "      <th>1</th>\n",
       "      <td>0.50</td>\n",
       "      <td>13.6</td>\n",
       "      <td>116.9</td>\n",
       "    </tr>\n",
       "    <tr>\n",
       "      <th>2</th>\n",
       "      <td>0.75</td>\n",
       "      <td>9.0</td>\n",
       "      <td>136.9</td>\n",
       "    </tr>\n",
       "    <tr>\n",
       "      <th>3</th>\n",
       "      <td>1.00</td>\n",
       "      <td>17.6</td>\n",
       "      <td>216.7</td>\n",
       "    </tr>\n",
       "    <tr>\n",
       "      <th>4</th>\n",
       "      <td>1.25</td>\n",
       "      <td>9.4</td>\n",
       "      <td>131.6</td>\n",
       "    </tr>\n",
       "  </tbody>\n",
       "</table>\n",
       "</div>"
      ],
      "text/plain": [
       "   Depth (m)  Por (%)  Perm (mD)\n",
       "0       0.25     13.0      265.5\n",
       "1       0.50     13.6      116.9\n",
       "2       0.75      9.0      136.9\n",
       "3       1.00     17.6      216.7\n",
       "4       1.25      9.4      131.6"
      ]
     },
     "execution_count": 3,
     "metadata": {},
     "output_type": "execute_result"
    }
   ],
   "source": [
    "df.head()"
   ]
  },
  {
   "cell_type": "markdown",
   "metadata": {},
   "source": [
    "***\n",
    "#### Convert data frames to NumPy arrays\n",
    "\n",
    "In order to facilitate data management and allow the use of helpful mathematical methods, we'll convert the Pandas data frames to NumPy arrays. Also, let's transpose the arrays to row format for conventionality."
   ]
  },
  {
   "cell_type": "code",
   "execution_count": 4,
   "metadata": {},
   "outputs": [],
   "source": [
    "depth = np.transpose(depth.to_numpy()[:,0])\n",
    "poros = np.transpose(poros.to_numpy()[:,0])\n",
    "perme = np.transpose(perme.to_numpy()[:,0])"
   ]
  },
  {
   "cell_type": "markdown",
   "metadata": {},
   "source": [
    "It's always a good idea to check after every step in our workflows! Let's preview the resulting arrays:"
   ]
  },
  {
   "cell_type": "code",
   "execution_count": 5,
   "metadata": {
    "scrolled": true
   },
   "outputs": [
    {
     "name": "stdout",
     "output_type": "stream",
     "text": [
      "depth = [0.25 0.5  0.75 1.   1.25] \n",
      "poros = [13.  13.6  9.  17.6  9.4] \n",
      "perme = [265.5 116.9 136.9 216.7 131.6]\n"
     ]
    }
   ],
   "source": [
    "print('depth =', depth[:5], '\\nporos =', poros[:5], '\\nperme =', perme[:5])   # To visualize the first 5 elements of each array"
   ]
  },
  {
   "cell_type": "markdown",
   "metadata": {},
   "source": [
    "***\n",
    "#### Determine thicknesses of layers\n",
    "\n",
    "The layer thickness is found by subtracting a shallower depth from a deeper depth. For most well logs, the layers will have a uniform thickness. However, irregular thicknesses are also possible and should be accounted for. Whichever is the case, the layer thicknesses array can be calculated in the following manner:"
   ]
  },
  {
   "cell_type": "code",
   "execution_count": 6,
   "metadata": {},
   "outputs": [],
   "source": [
    "layer_thick = depth - np.concatenate(([0],depth[:-1])) "
   ]
  },
  {
   "cell_type": "markdown",
   "metadata": {},
   "source": [
    "Note that the layer_thick array should have the same dimensions as the porosity and permeability arrays.\n",
    "***\n",
    "#### Step (1) - Sort data in decreasing order of k/$\\phi$ \n",
    "\n",
    "Recall that the first step to calculate the Lorenz Coefficient is to sort all layers in descending order of their ratio of permeability by porosity. Because both the porosity and permeability values are expressed as NumPy arrays, these ratios can be easily obtained by:"
   ]
  },
  {
   "cell_type": "code",
   "execution_count": 7,
   "metadata": {},
   "outputs": [],
   "source": [
    "ratio = perme/poros                                                           # Equivalent to np.multiply(perme,poros)"
   ]
  },
  {
   "cell_type": "markdown",
   "metadata": {},
   "source": [
    "Now, it's possible to sort the layer thickness, porosity and permeability arrays in the desired pattern:"
   ]
  },
  {
   "cell_type": "code",
   "execution_count": 8,
   "metadata": {},
   "outputs": [],
   "source": [
    "layer_thick = np.flip(layer_thick[np.argsort(ratio)], axis = 0); \n",
    "poros = np.flip(poros[np.argsort(ratio)], axis = 0)\n",
    "perme = np.flip(perme[np.argsort(ratio)], axis = 0)"
   ]
  },
  {
   "cell_type": "markdown",
   "metadata": {},
   "source": [
    "***\n",
    "#### Step (2) - Calculate storage and flow capacities\n",
    "\n",
    "The storage and flow capacities are found by performing element-wise multiplication of the porosity and permeability arrays by the thickness array. Hence:"
   ]
  },
  {
   "cell_type": "code",
   "execution_count": 9,
   "metadata": {},
   "outputs": [],
   "source": [
    "storage_cap = poros*layer_thick\n",
    "flow_cap = perme*layer_thick"
   ]
  },
  {
   "cell_type": "markdown",
   "metadata": {},
   "source": [
    "***\n",
    "#### Step (3) - Calculate the cumulative storage and flow capacities\n",
    "\n",
    "The next step is to compute the cumulative capacities for each layer. An easy solution to this assignment is provided by a for-loop. First, we pre-allocate the cumulative storage and flow capacities arrays. Then, we set the cumulative capacities of the first layer equal to its own capacities. Finally, we run a for-loop to compute the remaining cumlative capacities for the sequential layers."
   ]
  },
  {
   "cell_type": "code",
   "execution_count": 10,
   "metadata": {},
   "outputs": [],
   "source": [
    "cumul_storage_cap = np.zeros(len(flow_cap)+1)\n",
    "cumul_flow_cap = np.zeros(len(flow_cap)+1)\n",
    "    \n",
    "cumul_storage_cap[1] = storage_cap[0]\n",
    "cumul_flow_cap[1] = flow_cap[0]\n",
    "        \n",
    "for i in range(2,len(flow_cap)+1):\n",
    "    cumul_storage_cap[i] = cumul_storage_cap[i-1] + storage_cap[i-1]\n",
    "    cumul_flow_cap[i] = cumul_flow_cap[i-1] + flow_cap[i-1]"
   ]
  },
  {
   "cell_type": "markdown",
   "metadata": {},
   "source": [
    "Note that the length of the cumulative capacities arrays are one index greater than the flow and storage capacity arrays. In fact, the first entry of both arrays is set to 0 (zero) in order to ensure convergence of the future Lorenz Curve to the origin.\n",
    "\n",
    "***\n",
    "#### Step (4) - Normalize the cumulative storage and flow capacities\n",
    "\n",
    "To normalize the cumulative storage and flow capacities (i.e. limiting the range to [0,1]), we'll perform element-wise division of the cumulative storage and flow capacities by the sum of the all layers' storage and flow capacities, respectively. Thus, the normalized (also known as fractional) storage and flow capacities are given by:"
   ]
  },
  {
   "cell_type": "code",
   "execution_count": 11,
   "metadata": {},
   "outputs": [],
   "source": [
    "frac_storage_cap = cumul_storage_cap/cumul_storage_cap[-1]\n",
    "frac_flow_cap = cumul_flow_cap/cumul_flow_cap[-1]"
   ]
  },
  {
   "cell_type": "markdown",
   "metadata": {},
   "source": [
    "***\n",
    "#### Step (5) - Plot the Lorenz Curve\n",
    "\n",
    "Even though we say plot the Lorenz Curve, we'll indeed plot the fractional flow capacities against the fractional storage capacities (i.e. we'll plot some of the points on the Lorenz Curve).\n",
    "\n",
    "Let's instantiate a figure to hold our Lorenz Curve points:"
   ]
  },
  {
   "cell_type": "code",
   "execution_count": 35,
   "metadata": {},
   "outputs": [
    {
     "data": {
      "image/png": "[encoded data removed]",
      "text/plain": [
       "<Figure size 432x288 with 1 Axes>"
      ]
     },
     "metadata": {
      "needs_background": "light"
     },
     "output_type": "display_data"
    }
   ],
   "source": [
    "plt.subplot(111)\n",
    "plt.plot([0,1], [0,1], color = 'red', label = 'Homogeneous Line',linewidth=2)            # Homogeneous line\n",
    "plt.scatter(frac_storage_cap, frac_flow_cap, marker = 'o',s=20, \n",
    "         label = 'Lorenz Curve Points',color = 'darkorange',edgecolor = 'black',alpha=0.8)                # Sample points of Lorenz Curve\n",
    "plt.xlim([0,1]); plt.ylim([0,1])\n",
    "plt.grid(True, which='major',linewidth = 1.0); plt.grid(True, which='minor',linewidth = 0.2) # add y grids\n",
    "plt.tick_params(which='major',length=7); plt.tick_params(which='minor', length=4)\n",
    "plt.gca().xaxis.set_minor_locator(AutoMinorLocator()); plt.gca().yaxis.set_minor_locator(AutoMinorLocator()) # turn on minor ticks\n",
    "\n",
    "plt.title('Lorenz Curve')\n",
    "plt.xlabel('Cumulative Fraction of Storage Capacity ($m$)')\n",
    "plt.ylabel('Cumulative Fraction of Flow Capacity ($mD \\cdot m$)')\n",
    "plt.legend(loc = 'lower right')\n",
    "\n",
    "plt.subplots_adjust(left=0.0, bottom=0.0, right=1.0, top=1.1, wspace=0.2, hspace=0.3); plt.show()"
   ]
  },
  {
   "cell_type": "markdown",
   "metadata": {},
   "source": [
    "***\n",
    "#### Step (6) - Find a curve fit\n",
    "\n",
    "Now that we have some of the data points of the Lorenz Curve, we can apply a curve fit to predict the behavior of this entire subsurface sample. We'll use a 3rd degree polynomial to fit the Lorenz Curve. "
   ]
  },
  {
   "cell_type": "code",
   "execution_count": 36,
   "metadata": {},
   "outputs": [
    {
     "name": "stdout",
     "output_type": "stream",
     "text": [
      "poly_fit =  [ 2.83252318e-01 -1.00166028e+00  1.71840790e+00  1.64140836e-07]\n"
     ]
    }
   ],
   "source": [
    "weights = np.ones(len(frac_storage_cap))                                     \n",
    "weights[0] = 1000; weights[-1] = 1000                                           # To ensure the fit converges to (0,0) and (1,1)\n",
    "    \n",
    "poly_fit = np.polyfit(frac_storage_cap, frac_flow_cap, deg=3, w=weights)\n",
    "print('poly_fit = ', poly_fit)"
   ]
  },
  {
   "cell_type": "markdown",
   "metadata": {},
   "source": [
    "The resulting array contains the coefficients of the polynomial fit. To better visualize this polynomial in standard equation form:"
   ]
  },
  {
   "cell_type": "code",
   "execution_count": 37,
   "metadata": {},
   "outputs": [
    {
     "name": "stdout",
     "output_type": "stream",
     "text": [
      "        3         2\n",
      "0.2833 x - 1.002 x + 1.718 x + 1.641e-07\n"
     ]
    }
   ],
   "source": [
    "poly_fit = np.poly1d(poly_fit)\n",
    "print(poly_fit)"
   ]
  },
  {
   "cell_type": "markdown",
   "metadata": {},
   "source": [
    "***\n",
    "#### Step (7) - Integrate to find the area between the Lorenz Curve and the Homogenenous LIne\n",
    "\n",
    "The advantage of having applied the _numpy.poly1d()_ method on Step (6) is that we now have a callable object for which we can evaluate it over any domain (here [0,1]). Then:"
   ]
  },
  {
   "cell_type": "code",
   "execution_count": 38,
   "metadata": {},
   "outputs": [
    {
     "name": "stdout",
     "output_type": "stream",
     "text": [
      "         4          3          2\n",
      "0.07081 x - 0.3339 x + 0.8592 x + 1.641e-07 x\n"
     ]
    }
   ],
   "source": [
    "integral = np.polyint(poly_fit)\n",
    "print(integral)"
   ]
  },
  {
   "cell_type": "markdown",
   "metadata": {},
   "source": [
    "The result above can be easily validated since the fit has polynomial behavior. Now, we can evaluate the definite integral for the area under the Lorenz Curve and then subtract the area under the homogeneous line (i.e. area of isosceles triangle of side length 1 = 0.5):"
   ]
  },
  {
   "cell_type": "code",
   "execution_count": 39,
   "metadata": {},
   "outputs": [
    {
     "name": "stdout",
     "output_type": "stream",
     "text": [
      "0.09613043353885176\n"
     ]
    }
   ],
   "source": [
    "lorenz_area = integral(1) - integral(0) - 0.5 \n",
    "print(lorenz_area)"
   ]
  },
  {
   "cell_type": "markdown",
   "metadata": {},
   "source": [
    "Note that for practical purposes the integral(0) term could have been ignored since the integration constant is assumed to be 0.\n",
    "***\n",
    "#### Step (8) - Obtain the Lorenz Coefficient\n",
    "\n",
    "The final step of this procedure is to divide the _lorenz_area_ calculated on Step (7) by 0.5, which is the total area between the lines **y = 1** and **y = x** in the domain [0,1]:"
   ]
  },
  {
   "cell_type": "code",
   "execution_count": 40,
   "metadata": {},
   "outputs": [
    {
     "name": "stdout",
     "output_type": "stream",
     "text": [
      "Lorenz Coefficient = 0.192\n"
     ]
    }
   ],
   "source": [
    "lorenz_coefficient = lorenz_area/0.5\n",
    "print('Lorenz Coefficient = %.3f' %lorenz_coefficient)"
   ]
  },
  {
   "cell_type": "markdown",
   "metadata": {},
   "source": [
    "Because the Lorenz Coefficient sits below the conventional threshold of 0.3, we can assume that the subsurface sample near the well exhibits simple displacement of fluids and a potentially high recovery factor.\n",
    "\n",
    "Let's replicate the plot from Step (5) with shaded areas to better illustrate this Lorenz Coefficient:"
   ]
  },
  {
   "cell_type": "code",
   "execution_count": 73,
   "metadata": {},
   "outputs": [
    {
     "data": {
      "image/png": "[encoded data removed]",
      "text/plain": [
       "<Figure size 432x288 with 1 Axes>"
      ]
     },
     "metadata": {
      "needs_background": "light"
     },
     "output_type": "display_data"
    }
   ],
   "source": [
    "#plt.plot([0,1], [0,1], color = 'black', label = 'Homogeneous Line',linewidth=2)            # Homogeneous line\n",
    "plt.scatter(frac_storage_cap, frac_flow_cap, marker = 'o',s=20, \n",
    "         label = 'Lorenz Curve Points',color = 'darkorange',edgecolor = 'black',alpha=0.8,zorder=10)                # Sample points of Lorenz Curve\n",
    "plt.xlim([0,1]); plt.ylim([0,1])\n",
    "plt.grid(True, which='major',linewidth = 1.0); plt.grid(True, which='minor',linewidth = 0.2) # add y grids\n",
    "plt.tick_params(which='major',length=7); plt.tick_params(which='minor', length=4)\n",
    "plt.gca().xaxis.set_minor_locator(AutoMinorLocator()); plt.gca().yaxis.set_minor_locator(AutoMinorLocator()) # turn on minor ticks\n",
    "\n",
    "plt.plot(np.linspace(0,1,100), poly_fit(np.linspace(0,1,100)),\n",
    "         linewidth = 2, label = 'Polynomial Fit', color = 'black', zorder = 10)                            # Polynomial fit\n",
    "plt.fill_between(np.linspace(0,1,100), poly_fit(np.linspace(0,1,100)),\n",
    "                 np.linspace(0,1,100), alpha = 0.75,label = 'Heterogeneous Zone',facecolor='red')                                            # Blue area\n",
    "plt.fill_between(np.linspace(0,1,100), np.linspace(0,1,100),\n",
    "                 np.zeros(100), alpha = 0.5,hatch='XX',facecolor='gray')    \n",
    "    \n",
    "plt.title('Lorenz Curve, Emprical Points, Curve Fit and Coefficient')\n",
    "plt.xlabel('Cumulative Fraction of Storage Capacity ($m$)')\n",
    "plt.ylabel('Cumulative Fraction of Flow Capacity ($mD \\cdot m$)')\n",
    "plt.legend(loc = 'lower right',facecolor='white',framealpha = 1.0,edgecolor='black')\n",
    "plt.text(0.3, 0.8, 'Lorenz Coefficient = \\n %.3f' %lorenz_coefficient, size = 10, horizontalalignment = 'center', \\\n",
    "         bbox=dict(facecolor='white', edgecolor='black'))\n",
    "\n",
    "plt.subplots_adjust(left=0.0, bottom=0.0, right=1.0, top=1.1, wspace=0.2, hspace=0.3); plt.show()"
   ]
  },
  {
   "cell_type": "markdown",
   "metadata": {},
   "source": [
    "It's now clear that, graphically, the Lorenz Coefficient is equivalent to the red area divided by the non-hatched area.\n",
    "***\n",
    "#### Conclusion\n",
    "\n",
    "This exercise detailed the procedure towards calculating the Lorenz Coefficient of a subsurface sample from its porosity and permeability measurements. We also covered some of the Python resources available to improve management of well data, perform the necessary mathematical transformations, and visualize the solution curve and the Lorenz Coefficient.\n",
    "\n",
    "If you use the GeostatsPy package, the calculation and display of the Lorenz Coefficient are available through the **lorenz_curve()** and **lorenz_display()** functions. Please check the documentation on those for more detail. \n",
    "\n",
    "\n",
    "***\n",
    "\n",
    "#### More on Michael Pyrcz and the Texas Center for Geostatistics:\n",
    "\n",
    "### Michael Pyrcz, Associate Professor, University of Texas at Austin \n",
    "*Novel Data Analytics, Geostatistics and Machine Learning Subsurface Solutions*\n",
    "\n",
    "With over 17 years of experience in subsurface consulting, research and development, Michael has returned to academia driven by his passion for teaching and enthusiasm for enhancing engineers' and geoscientists' impact in subsurface resource development. \n",
    "\n",
    "For more about Michael check out these links:\n",
    "\n",
    "#### [Twitter](https://twitter.com/geostatsguy) | [GitHub](https://github.com/GeostatsGuy) | [Website](http://michaelpyrcz.com) | [GoogleScholar](https://scholar.google.com/citations?user=QVZ20eQAAAAJ&hl=en&oi=ao) | [Book](https://www.amazon.com/Geostatistical-Reservoir-Modeling-Michael-Pyrcz/dp/0199731446) | [YouTube](https://www.youtube.com/channel/UCLqEr-xV-ceHdXXXrTId5ig)  | [LinkedIn](https://www.linkedin.com/in/michael-pyrcz-61a648a1)\n",
    "\n",
    "#### Want to Work Together?\n",
    "\n",
    "I hope this content is helpful to those that want to learn more about subsurface modeling, data analytics and machine learning. Students and working professionals are welcome to participate.\n",
    "\n",
    "* Want to invite me to visit your company for training, mentoring, project review, workflow design and / or consulting? I'd be happy to drop by and work with you! \n",
    "\n",
    "* Interested in partnering, supporting my graduate student research or my Subsurface Data Analytics and Machine Learning consortium (co-PIs including Profs. Foster, Torres-Verdin and van Oort)? My research combines data analytics, stochastic modeling and machine learning theory with practice to develop novel methods and workflows to add value. We are solving challenging subsurface problems!\n",
    "\n",
    "* I can be reached at mpyrcz@austin.utexas.edu.\n",
    "\n",
    "I'm always happy to discuss,\n",
    "\n",
    "*Michael*\n",
    "\n",
    "Michael Pyrcz, Ph.D., P.Eng. Associate Professor The Hildebrand Department of Petroleum and Geosystems Engineering, Bureau of Economic Geology, The Jackson School of Geosciences, The University of Texas at Austin\n",
    "\n",
    "#### More Resources Available at: [Twitter](https://twitter.com/geostatsguy) | [GitHub](https://github.com/GeostatsGuy) | [Website](http://michaelpyrcz.com) | [GoogleScholar](https://scholar.google.com/citations?user=QVZ20eQAAAAJ&hl=en&oi=ao) | [Book](https://www.amazon.com/Geostatistical-Reservoir-Modeling-Michael-Pyrcz/dp/0199731446) | [YouTube](https://www.youtube.com/channel/UCLqEr-xV-ceHdXXXrTId5ig)  | [LinkedIn](https://www.linkedin.com/in/michael-pyrcz-61a648a1)\n",
    "\n"
   ]
  }
 ],
 "metadata": {
  "kernelspec": {
   "display_name": "Python 3",
   "language": "python",
   "name": "python3"
  },
  "language_info": {
   "codemirror_mode": {
    "name": "ipython",
    "version": 3
   },
   "file_extension": ".py",
   "mimetype": "text/x-python",
   "name": "python",
   "nbconvert_exporter": "python",
   "pygments_lexer": "ipython3",
   "version": "3.7.6"
  }
 },
 "nbformat": 4,
 "nbformat_minor": 4
}
